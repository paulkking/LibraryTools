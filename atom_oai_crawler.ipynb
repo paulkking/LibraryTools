{
 "cells": [
  {
   "cell_type": "markdown",
   "metadata": {},
   "source": [
    "# OAI Crawler Test for AtoM\n",
    "\n",
    "For retrieving top level records only"
   ]
  },
  {
   "cell_type": "code",
   "execution_count": 1,
   "metadata": {},
   "outputs": [],
   "source": [
    "import requests\n",
    "from bs4 import BeautifulSoup"
   ]
  },
  {
   "cell_type": "code",
   "execution_count": null,
   "metadata": {},
   "outputs": [],
   "source": [
    "# Add URL for OAI feed\n",
    "BaseURL = \"REPLACE WITH URL\""
   ]
  },
  {
   "cell_type": "code",
   "execution_count": 2,
   "metadata": {},
   "outputs": [],
   "source": [
    "# Function to send request to atom\n",
    "def getOAI(token = \"\"):\n",
    "   if token == \"\":\n",
    "      response = requests.get(BaseURL + \"?verb=ListRecords&metadataPrefix=oai_dc&set=oai:virtual:top-level-records\")\n",
    "   else:\n",
    "      response = requests.get(BaseURL + \"?verb=ListRecords&metadataPrefix=oai_dc&set=oai:virtual:top-level-records&resumptionToken=\" + token)\n",
    "   soup = BeautifulSoup(response.text, 'xml')\n",
    "   try:\n",
    "      token2 = soup.find('resumptionToken').get_text()\n",
    "   except:\n",
    "      token2 = \"stop\"\n",
    "   return response, token2"
   ]
  },
  {
   "cell_type": "code",
   "execution_count": 3,
   "metadata": {},
   "outputs": [
    {
     "name": "stdout",
     "output_type": "stream",
     "text": [
      "Done\n"
     ]
    }
   ],
   "source": [
    "# Harvest all records\n",
    "\n",
    "responses = []\n",
    "tokens = [\"\"]\n",
    "i = 0\n",
    "while True:\n",
    "    #print(tokens[i])\n",
    "    response, tokenOut = getOAI(token = tokens[i])\n",
    "    i += 1\n",
    "    #print(tokenOut)\n",
    "    responses.append(response)\n",
    "    if tokenOut == \"stop\":\n",
    "        print(\"Done\")\n",
    "        break\n",
    "    tokens.append(tokenOut)"
   ]
  },
  {
   "cell_type": "code",
   "execution_count": 5,
   "metadata": {},
   "outputs": [
    {
     "name": "stdout",
     "output_type": "stream",
     "text": [
      "937 total records\n"
     ]
    }
   ],
   "source": [
    "# verify number of records\n",
    "count = 0\n",
    "for response in responses:\n",
    "    soup = BeautifulSoup(response.text, 'xml')\n",
    "    count += len(soup.find_all('record'))\n",
    "print(str(count) + \" total records\")"
   ]
  },
  {
   "cell_type": "code",
   "execution_count": 7,
   "metadata": {},
   "outputs": [],
   "source": [
    "# write to file\n",
    "\n",
    "f = open(\"oai_output.txt\",\"a\")\n",
    "for response in responses:\n",
    "    f.write(response.text)\n",
    "f.close()"
   ]
  }
 ],
 "metadata": {
  "kernelspec": {
   "display_name": "base",
   "language": "python",
   "name": "python3"
  },
  "language_info": {
   "codemirror_mode": {
    "name": "ipython",
    "version": 3
   },
   "file_extension": ".py",
   "mimetype": "text/x-python",
   "name": "python",
   "nbconvert_exporter": "python",
   "pygments_lexer": "ipython3",
   "version": "3.8.18"
  }
 },
 "nbformat": 4,
 "nbformat_minor": 2
}
